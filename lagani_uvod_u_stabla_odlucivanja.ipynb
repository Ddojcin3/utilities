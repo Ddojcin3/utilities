{
 "cells": [
  {
   "cell_type": "markdown",
   "metadata": {},
   "source": [
    "# Stabla odlučivanja za ciljane marketinške kampanje\n",
    "\n",
    "## Napomena:\n",
    "Da bi ovaj notebook ispravno radio, morate u isti folder gdje ste njega skinuli skinuti i fileove (u njima su podatci, mozete ih otvoriti i pogledati s Notepadom ili nekim drugim text editorom):\n",
    "* algebra.csv\n",
    "* algebra_s.csv\n",
    "* to_classify.csv\n",
    "* dt.png\n",
    "\n",
    "\n",
    "## 1. Priprema podataka\n",
    "\n",
    "Stabla odlučivanja su jedan od najjednostavnijih i najintuitivnijih modela strojnog učenja. U ovom notebooku ćemo vas upoznati sa njihovim funkcioniranjem na primjeru podataka s neke fiktivne web stranice za online kupovinu.\n",
    "\n",
    "Koristit ćemo jezik Python 3 i obilnu količinu primjera i ilustracija. Također, naučit ćete korak po korak kako izgleda Python programski kod, i bit će nam drago da vam ovo ujedno bude poticaj za učenje Pythona koji je u današnjem poslovnom svijetu iznimno koristan.\n",
    "\n",
    "Prvo ćemo učitati podatke. Da biste to napravili, kliknete na sljedeću ćeliju (gdje piše \"**In[   ]**\"), i stisnete *Shift+Enter(Return)*. Pričekajte dok piše \"**In[\\*]**\" i dok ne vidite \"**In[1]**\", tada je izračun gotov. Kao rezultat biste trebali dobiti prvih pet redaka tablice."
   ]
  },
  {
   "cell_type": "code",
   "execution_count": null,
   "metadata": {
    "collapsed": false
   },
   "outputs": [],
   "source": [
    "import pandas as pd\n",
    "podatci = pd.read_csv(\"algebra.csv\")\n",
    "podatci.head()"
   ]
  },
  {
   "cell_type": "markdown",
   "metadata": {},
   "source": [
    "**Zadatak 1:** Vidimo da ova kratka skripta (odnosno program, ili aplikacija) izlistava prvih pet redaka iz tablice \"algebra.csv\". U donjoj ćeliji pokušajte doraditi skriptu da izlistava prvih deset redaka:"
   ]
  },
  {
   "cell_type": "code",
   "execution_count": null,
   "metadata": {
    "collapsed": false
   },
   "outputs": [],
   "source": [
    "podatci.head(5)#modificirajte ovu liniju da dobijete 10 redaka"
   ]
  },
  {
   "cell_type": "markdown",
   "metadata": {
    "collapsed": true
   },
   "source": [
    "## 2. Ideja iza klasifikatora\n",
    "\n",
    "Stablo odlučivanja je konceptualno najjednostavniji algoritam strojnog učenja, pa ćemo na njemu pokazati kako funkcionira strojno učenje. \n",
    "\n",
    "Algoritmi za strojno učenje se mogu ugrubo podijeliti na *klasifikacijske* algoritme i algoritme za *clustering*. Stablo odlučivanja je klasifikacijski algoritam.\n",
    "\n",
    "Klasifikacija općenito funkcionira ovako. Jedan stupac iz tablice s podatcima proglasimo **ciljnom** varijablom. U našem slučaju je to *end_result* stupac, ali to može biti bilo koji drugi stupac koji nas zanima (odnosno za kojeg želimo saznati kako ga vrijednosti u ostalim stupcima *predviđaju*)\n",
    "\n",
    "Dignimo prva tri stupca naše tablice (stisnite *Shift+Enter* na sljedećoj ćeliji):"
   ]
  },
  {
   "cell_type": "code",
   "execution_count": null,
   "metadata": {
    "collapsed": false
   },
   "outputs": [],
   "source": [
    "podatci.head(3)"
   ]
  },
  {
   "cell_type": "markdown",
   "metadata": {},
   "source": [
    "Značenje stupca *end_result* je sljedeći:\n",
    "* Vrijednost 0 znači \"napuštena košarica\"\n",
    "* Vrijednost 1 znači \"nedovršeno plaćanje\"\n",
    "* Vrijednost 2 znači \"kartica odbijena prilikom plaćanja\"\n",
    "* Vrijednost 3 znači \"Uspješno plaćanje\"\n",
    "\n",
    "Zamislimo za sada da su ova tri retka. Ako nam ciljna varijabla *end_result*, onda znači da mi želimo predvidjeti vrijednost *end_result* temeljem drugih stupaca. Na primjer, ako želimo predvidjeti tko je napustio košaricu, vidimo da vrijedi na ova tri retka \"Ako **gender = m**, onda **end_result = 2**\".\n",
    "\n",
    "**gender = m** se naziva *prediktorom* za ciljnu varijablu **end_result** (odnosno za prepoznavanje kada je **end_result = 2**). Uočimo da je **gender = m** prediktor, dok se samo **gender** naziva *svojstvo* odnosno *feature* \n",
    "\n",
    "Prediktora može biti više, i na ovom primjeru vidimo da ih ima još:\n",
    "\n",
    "* **gender = m**\n",
    "* **age < 28** (iako je ovdje moglo biti i 24, 25, 26,...,32, ali smo odabrali 28 jer je na sredini)\n",
    "* **item_id > 250** (iako opet, može biti bilo koja vrijednost koja ih razdvaja)\n",
    "* Možete li naći jos neki? (hint: cijena)\n",
    "\n",
    "Uočimo također da prediktori mogu biti složeni. Na primjer, dobro funkcionira i prediktor **prev_purchases_in_usd = 0 AND uses_whishlist = 1**. Ovaj prediktor isto upućuje na **end_result = 2**.\n",
    "\n",
    "Kao mala digresija, kako bismo formulirali prediktor uz pomoć featurea **prev_purchases_in_usd = 0** i **uses_whishlist = 1** za **end_result = 2**?\n",
    "\n",
    "Odgovor je **prev_purchases_in_usd > 0 OR uses_whishlist = 0** (uočite promjene, AND u OR, i vrijednosti).\n",
    "\n",
    "No da se vratimo na stabla odlučivanja. Učitajmo sljedeći redak tablice:"
   ]
  },
  {
   "cell_type": "code",
   "execution_count": null,
   "metadata": {
    "collapsed": false
   },
   "outputs": [],
   "source": [
    "podatci.head(4)"
   ]
  },
  {
   "cell_type": "markdown",
   "metadata": {},
   "source": [
    "Sada više nisu dobri prediktori **gender = m**, **age < 28**, **item_id > 0**, kao ni naš složeni prediktor. Prediktor temeljen na cijeni još uvijek radi. Učitajmo još jedan redak tablice:\n"
   ]
  },
  {
   "cell_type": "code",
   "execution_count": null,
   "metadata": {
    "collapsed": false
   },
   "outputs": [],
   "source": [
    "podatci.head(5)"
   ]
  },
  {
   "cell_type": "markdown",
   "metadata": {},
   "source": [
    "U teoriji bismo mogli ručno konstruirati prediktore tako da hvatamo točne slučajeve. Na primjer, **price < 20 AND price > 95**, ili još \"sigurnije\" bismo uzeli **customer_id = 1001 OR customer_id = 1922 OR customer_id = 1004**. Ovime bismo išli u totalno krivom smjeru. \n",
    "\n",
    "Mi želimo stvoriti alat koji će nam predvidjeti za buduće kupce hoće li odustati ili ne, a metoda pobrojavanja po **customer_id** (znači fokus samo na ovaj stupac bez razmišljanja o drugim featurima) tko je napustio do sada nam u tome sigurno neće pomoći da bismo pridobili klijenta **customer_id = 5555**, ali ni za zadržati klijenta **customer_id = 0003**.\n",
    "\n",
    "\n",
    "## 3. Klasifikacija i marketing\n",
    "\n",
    "Ovdje je primjereno dati jednu važnu maksimu:\n",
    "\n",
    "_**Akvizicija novih klijenata i retencija postojećih klijenata su dvije glavne zadaće marketinga**._ \n",
    "\n",
    "Naglasak može biti malo više na jednom ili na drugom, ali ovo je *esencija* marketinga. \n",
    "\n",
    "Mi želimo iz podataka \"naučiti\" kombinaciju svojstava koju dijele klijente koji su odustali od ostalih, i onda temeljem te kombinacije probati vidijeti u čemu nam je problem, ali i predvidjeti hoće li kupac 5555 imati isti problem, i time moći preventivno djelovati na njegovu retenciju. Retencija je u praksi najčešće otklanjanje poteskoća klijentima, jer je glavni razlog odlaska (na koji možemo djelovati), neki problem na našem sustavu. Naravno postoje i drugi razlozi, ali oni su (a) bitno teži za naći, i (b) bitno je teže na njih djelovati.\n",
    "\n",
    "Drugi aspekt ovakve analize je vidjeti gdje ima mjesta za akviziciju. Akvizicija je u jednu ruku jednostavnija, a u jednu kompleksnija.\n",
    "\n",
    "Jednostavnija je u tu ruku da je potrebno naći najbolji prediktor za **end_result = 3**, i analizirati rezultate. Uz malo sreće, među najboljim rezultatima ćemo imati vrijedne spoznaje, npr. **age > 25 AND age < 40 AND gender = f**, čime onda možemo raditi vrlo dobre ciljane kampanje.\n",
    "\n",
    "Kompleksnija pak u tome da se akvizicija može gledati i na način da se radi *cross-selling*, odnosno da, ako smo naučili iz naših podataka da klijenti koji kupe bilo koju knjigu za preko 70 USD najčešće kupe i artikl 258, onda svakom tko stavi u košaricu knjigu u vrijednosti preko 70 USD želimo ponuditi i artikl 258 (možda sa popustom).\n",
    "\n",
    "\n",
    "## 4. Stabla odlučivanja\n",
    "\n",
    "Stabla odlučivanja biraju feature i kombiniraju ih tako da se dobije određeni redoslijed njihove primjene. Glavni trik je u tome da se mjeri koji featurei daju najbolju diskriminaciju, i oni se uzimaju prvi. Dobar primjer je predviđanje tko je (i tko bi) preživio na _Titanicu_ (posuđujemo sliku s Wikipedije)\n",
    "\n",
    "<img src=\"dt.png\">\n",
    "\n",
    "Brojevi ispod elemenata slike označavaju vjerojatnost preživljavanja (decimalni brojevi oblika 0.34), i postotak sveukupnih slučajeva koji se nalaze u toj kategoriji (koji, radi zaokruživanja su u zbroju 101%, ali ovo nije važno sad). Vjerojatnost preživljavanja iznad 0.5 se smatra kategorijom \"survived\", a ispod 0.5 se smatra kategorijom \"died\" (ova tehnika gdje se brojevna skala podijeli na dvije kategorije prije i nakon neke granice se naziva \"thresholding\").\n",
    "\n",
    "Znači, ako je osoba ženskog spola, njena vjerojatnost za preživljavanje je 0.73 (73%). Ako je muškog spola i stariji od 9.5 godina, onda je vjerojatno umro (vjerojatnost za preživljavanje 0.17, odnosno 17%). Najbolju šansu za preživljavanje su imale muške osobe mlađe od 9.5 godina koje imaju manje od 2.5 braće i sestara (0.89, odnosno 89% šanse, premda ih je bilo jako malo, odnosno 2% od sveukupne populacije). Ovih 2% znači da je bilo dosta malo uzoraka s ovim prediktorom (**sex = m AND age < 9.5 AND sibsp < 2.5**), što znači da možda ova klasifikacija nije najpouzdanija, odnosno da je možda preovisna o slučajnostima.\n",
    "\n",
    "Klasifikacija na temelju spola daje 0.73 šanse za preživljavanje, ali ovo ima sposobnost na jednostavan način (uz samo feature **sex**) uhvatiti 36% sveukupnih podataka. U izvjesnom smislu, to je najjači feature i najstabilniji (što prati i zdravorazumsku intuiciju). \n",
    "\n",
    "Ovo je temelj funkcioniranja stabala odlučivanja: stablo odlučivanja pokušava naći redoslijed tako da prvo razgraničava po najjačem featureu, a zatim po sve slabijim. \n",
    "\n",
    "To **ne** znači da je najjači feature onaj koji daje najveće šanse za preživljavanje (odnosno najveću razliku oko *thresholdinga*), jer to nije više bitno, ono što je bitno je li iznad 0.5, pa dobije oznaku \"PREŽIVLJAVA\" ili ispod, pa dobije oznaku \"UMIRE\". \n",
    "\n",
    "Najjači feature je onaj koji najbolje dijeli uzorke, znači u našem slučaju 36% vs 64%. Detalji kako stablo točno računa kojim će redom ići su kompleksni (i upravo zato i koristimo algoritam a ne radimo ovo ručno), ali ovo opisano je intuicija iza toga.\n",
    "\n",
    "Sada smo spremni dignuti stablo odlučivanja nad našim podatcima. Sljedećih nekoliko ćelija treba izvršiti sa Shift+Enter, a ispod njih dajemo objašnjenja."
   ]
  },
  {
   "cell_type": "code",
   "execution_count": null,
   "metadata": {
    "collapsed": true
   },
   "outputs": [],
   "source": [
    "import pandas as pd\n",
    "from sklearn import tree"
   ]
  },
  {
   "cell_type": "markdown",
   "metadata": {},
   "source": [
    "Kratak komentar:\n",
    "\n",
    "* Prvi redak služi za učitavanje dodatnog modula \"Pandas\" koji služi kao tablica (slično Excelu),\n",
    "* Drugi redak učitava dodatni Python modul (sklearn) za njegov podmodul (tree) za stabla odlučivanja,\n",
    "\n",
    "Sljedeći korak je da učitamo podatke (Shift+Enter na donju ćeliju):"
   ]
  },
  {
   "cell_type": "code",
   "execution_count": null,
   "metadata": {
    "collapsed": true
   },
   "outputs": [],
   "source": [
    "podatci_2 = pd.read_csv(\"algebra_s.csv\")"
   ]
  },
  {
   "cell_type": "markdown",
   "metadata": {},
   "source": [
    "**Napomena:** ovo nije ista tablica kao gornja, nego je reduciran broj stupaca (retci su isti). Izvršite donju ćeliju da vidite prvih par redaka:"
   ]
  },
  {
   "cell_type": "code",
   "execution_count": null,
   "metadata": {
    "collapsed": false
   },
   "outputs": [],
   "source": [
    "podatci_2.head()"
   ]
  },
  {
   "cell_type": "markdown",
   "metadata": {},
   "source": [
    "Stupac **customer_id** nam više ne treba, pa ćemo ga se riješiti:"
   ]
  },
  {
   "cell_type": "code",
   "execution_count": null,
   "metadata": {
    "collapsed": false
   },
   "outputs": [],
   "source": [
    "podatci_3 = podatci_2.drop('customer_id',axis=1)\n",
    "podatci_3.head()#ovaj redak je da provjerimo jesmo li dobro napravili"
   ]
  },
  {
   "cell_type": "markdown",
   "metadata": {},
   "source": [
    "Sljedeći je korak podijeliti podatke u dvije tablice, jednu koja ima feature, a druga ima **end_result** u sebi (ovo radimo zato što SKlearn tako želi primati podatke):"
   ]
  },
  {
   "cell_type": "code",
   "execution_count": null,
   "metadata": {
    "collapsed": false
   },
   "outputs": [],
   "source": [
    "svojstva = podatci_3[[\"age\",\"price\"]]\n",
    "svojstva.head()"
   ]
  },
  {
   "cell_type": "code",
   "execution_count": null,
   "metadata": {
    "collapsed": false
   },
   "outputs": [],
   "source": [
    "rezultati = podatci_3[[\"end_result\"]]\n",
    "rezultati.head()"
   ]
  },
  {
   "cell_type": "markdown",
   "metadata": {},
   "source": [
    "Prisjetimo se da \"head\" znači da se ispiše prvih nekoliko rezultata (default=5, ako se želi neka druga vrijednost, treba se napisati u zagrade), a ako želimo vidjeti cijelu tablicu samo napisemo \"rezultati\" umjesto \"rezultati.head()\"."
   ]
  },
  {
   "cell_type": "code",
   "execution_count": null,
   "metadata": {
    "collapsed": true
   },
   "outputs": [],
   "source": [
    "stablo = tree.DecisionTreeClassifier()\n",
    "Breza = stablo.fit(svojstva, rezultati)"
   ]
  },
  {
   "cell_type": "markdown",
   "metadata": {},
   "source": [
    "Prvi redak u ćeliji iznad stvara novo prazno stablo iz SKlearn modula, a drugi redak ga utrenira nad podatcima iz CSV tablice koju smo istraživali. Sad je stablo utrenirano i živi u sustavu pod imenom \"Breza\" i spremno je za klasificiranje novih podataka.\n",
    "\n",
    "Zamislimo da sada dobijemo tablicu klijenata koji su upravo na stranici i kupuju, i to je tablica \"to_classify.csv\". Učitajmo tu tablicu (Shift+Enter na donju ćeliju)"
   ]
  },
  {
   "cell_type": "code",
   "execution_count": null,
   "metadata": {
    "collapsed": false
   },
   "outputs": [],
   "source": [
    "klijenti_na_stranici = pd.read_csv(\"to_classify.csv\") #ovo ispisuje tablicu\n",
    "klijenti_na_stranici"
   ]
  },
  {
   "cell_type": "markdown",
   "metadata": {},
   "source": [
    "Sada upogonimo Brezu nad ovim  podatcima:"
   ]
  },
  {
   "cell_type": "code",
   "execution_count": null,
   "metadata": {
    "collapsed": false
   },
   "outputs": [],
   "source": [
    "pred = Breza.predict(klijenti_na_stranici)\n",
    "pred"
   ]
  },
  {
   "cell_type": "markdown",
   "metadata": {},
   "source": [
    "Na ovaj je način Breza ispisala što će svaki od klijenata najvjerojatnije napraviti. Prisjetimo se:\n",
    "\n",
    "* Vrijednost 0 znači \"napuštena košarica\"\n",
    "* Vrijednost 1 znači \"nedovršeno plaćanje\"\n",
    "* Vrijednost 2 znači \"kartica odbijena prilikom plaćanja\"\n",
    "* Vrijednost 3 znači \"Uspješno plaćanje\"\n",
    "\n",
    "Možemo ove podatke dodati u tablicu u novi stupac **expected_action**:"
   ]
  },
  {
   "cell_type": "code",
   "execution_count": null,
   "metadata": {
    "collapsed": false
   },
   "outputs": [],
   "source": [
    "klijenti_na_stranici['expected_action'] = pred\n",
    "klijenti_na_stranici"
   ]
  },
  {
   "cell_type": "markdown",
   "metadata": {},
   "source": [
    "## 5. Zadatci\n",
    "\n",
    "Ovaj donji dio je predviđen za riješavanje zadataka vezanih uz ovaj notebook. Prema potrebi možete dodati ćelije ispod predviđene ćelije u nastavku. Naša je preporuka da svoj program napišete u Notepadu, ili još bolje u Notepad++, te ga zatim kopirate (ovo je napredna varijanta), ili da ga pišete liniju po liniju u ćeliju dolje, i nakon svake linije si isprintate rezultat da vidite jeste li dobili ono što ste htjeli dobiti. Naravno, možete i kombinirati ova dva pristupa."
   ]
  },
  {
   "cell_type": "code",
   "execution_count": null,
   "metadata": {
    "collapsed": true
   },
   "outputs": [],
   "source": []
  }
 ],
 "metadata": {
  "kernelspec": {
   "display_name": "Python [Root]",
   "language": "python",
   "name": "Python [Root]"
  },
  "language_info": {
   "codemirror_mode": {
    "name": "ipython",
    "version": 3
   },
   "file_extension": ".py",
   "mimetype": "text/x-python",
   "name": "python",
   "nbconvert_exporter": "python",
   "pygments_lexer": "ipython3",
   "version": "3.5.2"
  }
 },
 "nbformat": 4,
 "nbformat_minor": 0
}
